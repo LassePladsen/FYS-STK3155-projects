{
 "cells": [
  {
   "cell_type": "code",
   "execution_count": 1,
   "metadata": {},
   "outputs": [],
   "source": [
    "import warnings\n",
    "\n",
    "import pandas as pd\n",
    "import numpy as np\n",
    "import seaborn as sns\n",
    "import matplotlib.pyplot as plt\n",
    "import xgboost as xgb\n",
    "from sklearn.metrics import precision_score, confusion_matrix, recall_score, accuracy_score\n",
    "\n",
    "from get_data import get_balanced_exoplanet_data\n",
    "\n",
    "warnings.simplefilter(\"ignore\")"
   ]
  },
  {
   "cell_type": "markdown",
   "metadata": {},
   "source": [
    "## Test xgboost \n",
    "\n"
   ]
  },
  {
   "cell_type": "code",
   "execution_count": 2,
   "metadata": {},
   "outputs": [
    {
     "name": "stdout",
     "output_type": "stream",
     "text": [
      "0.9992094861660079\n",
      "1.0\n",
      "0.9996039603960396\n"
     ]
    },
    {
     "data": {
      "image/png": "[encoded data removed]",
      "text/plain": [
       "<Figure size 640x480 with 1 Axes>"
      ]
     },
     "metadata": {},
     "output_type": "display_data"
    }
   ],
   "source": [
    "x_train, x_test, y_train, y_test = get_balanced_exoplanet_data()\n",
    "\n",
    "\n",
    "# Parameters\n",
    "rng_seed = 2023\n",
    "depth = 5\n",
    "boosting_rounds = 100\n",
    "\n",
    "model = xgb.XGBClassifier(\n",
    "    max_depth=depth,\n",
    "    random_state=rng_seed,\n",
    "    class_weight=\"balanced\",\n",
    "    n_estimators=boosting_rounds,\n",
    ")\n",
    "model.fit(x_train, y_train)\n",
    "pred = model.predict(x_test)\n",
    "\n",
    "# Confusion matrix\n",
    "sns.heatmap(\n",
    "    confusion_matrix(y_test, pred),\n",
    "    annot=True,\n",
    "    cmap=\"Blues\",\n",
    "    cbar=False,\n",
    "    fmt=\".0f\",\n",
    ")\n",
    "plt.xlabel(\"Predicted label\")\n",
    "plt.ylabel(\"True label\")\n",
    "\n",
    "# Metrics\n",
    "print(precision_score(y_test, pred))\n",
    "print(recall_score(y_test, pred))\n",
    "print(accuracy_score(y_test, pred))"
   ]
  },
  {
   "cell_type": "markdown",
   "metadata": {},
   "source": [
    "## Xgboost grid search as func of depth and boosting rounds"
   ]
  },
  {
   "cell_type": "code",
   "execution_count": 3,
   "metadata": {},
   "outputs": [
    {
     "name": "stderr",
     "output_type": "stream",
     "text": [
      "Exception ignored on calling ctypes callback function: <bound method DataIter._next_wrapper of <xgboost.data.SingleBatchInternalIter object at 0x0000025C9810EB50>>\n",
      "Traceback (most recent call last):\n",
      "  File \"c:\\Users\\lasse\\AppData\\Local\\Programs\\Python\\Python311\\Lib\\site-packages\\xgboost\\core.py\", line 588, in _next_wrapper\n",
      "    def _next_wrapper(self, this: None) -> int:  # pylint: disable=unused-argument\n",
      "\n",
      "KeyboardInterrupt: \n"
     ]
    },
    {
     "ename": "",
     "evalue": "",
     "output_type": "error",
     "traceback": [
      "\u001b[1;31mThe Kernel crashed while executing code in the the current cell or a previous cell. Please review the code in the cell(s) to identify a possible cause of the failure. Click <a href='https://aka.ms/vscodeJupyterKernelCrash'>here</a> for more info. View Jupyter <a href='command:jupyter.viewOutput'>log</a> for further details."
     ]
    }
   ],
   "source": [
    "\"\"\"# Parameters\n",
    "depths = [10, 30, 50]\n",
    "boost_vals = [10, 30, 50, 100, 200]\n",
    "filename = \"../results/figures/xgboost_gridsearch_depth_boost.png\"\n",
    "\n",
    "precisions = np.empty((len(depths), len(boost_vals)))\n",
    "models = np.empty_like(precisions, dtype=xgb.XGBClassifier)\n",
    "for i, depth in enumerate(depths):\n",
    "    for j, boost in enumerate(boost_vals):\n",
    "        model = xgb.XGBClassifier(\n",
    "            max_depth=depth,\n",
    "            random_state=rng_seed,\n",
    "            class_weight=\"balanced\",\n",
    "            n_estimators=boost,\n",
    "        )\n",
    "        model.fit(x_train, y_train)\n",
    "        pred = model.predict(x_test)\n",
    "        models[i, j] = model\n",
    "        precisions[i, j] = precision_score(y_test, pred)\n",
    "\n",
    "\n",
    "sns.heatmap(\n",
    "    precisions,\n",
    "    annot=True,\n",
    "    fmt=\".3f\",\n",
    "    cmap=\"viridis\",\n",
    "    xticklabels=boost_vals,\n",
    "    yticklabels=depths,\n",
    "    cbar_kws={\"label\": \"Test precision\"},\n",
    ")\n",
    "plt.xlabel(\"No. boosting rounds\")\n",
    "plt.ylabel(\"Max tree depth\")\n",
    "plt.xticks(depths)\n",
    "\n",
    "if filename:\n",
    "    plt.savefig(filename)\n",
    "plt.show(); \"\"\""
   ]
  }
 ],
 "metadata": {
  "kernelspec": {
   "display_name": "Python 3",
   "language": "python",
   "name": "python3"
  },
  "language_info": {
   "codemirror_mode": {
    "name": "ipython",
    "version": 3
   },
   "file_extension": ".py",
   "mimetype": "text/x-python",
   "name": "python",
   "nbconvert_exporter": "python",
   "pygments_lexer": "ipython3",
   "version": "3.11.4"
  }
 },
 "nbformat": 4,
 "nbformat_minor": 2
}
