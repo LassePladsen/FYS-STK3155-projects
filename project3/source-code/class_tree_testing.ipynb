{
 "cells": [
  {
   "cell_type": "code",
   "execution_count": 1,
   "metadata": {},
   "outputs": [],
   "source": [
    "import warnings\n",
    "\n",
    "import pandas as pd\n",
    "import numpy as np\n",
    "import seaborn as sns\n",
    "import matplotlib.pyplot as plt\n",
    "from sklearn.tree import DecisionTreeClassifier, plot_tree\n",
    "from sklearn.metrics import accuracy_score, confusion_matrix, precision_score\n",
    "from sklearn.preprocessing import StandardScaler\n",
    "\n",
    "from get_data import get_balanced_exoplanet_data\n",
    "\n",
    "warnings.simplefilter(\"ignore\")"
   ]
  },
  {
   "cell_type": "code",
   "execution_count": null,
   "metadata": {},
   "outputs": [],
   "source": [
    "x_train, x_test, y_train, y_test = get_balanced_exoplanet_data()\n",
    "\n",
    "# Parameters\n",
    "rng_seed = 2023\n",
    "depth = 5\n",
    "boosting_rounds = 100\n",
    "\n",
    "model = DecisionTreeClassifier(\n",
    "    max_depth=depth,\n",
    "    random_state=rng_seed,\n",
    "    class_weight=\"balanced\",\n",
    ")\n",
    "model.fit(x_train, y_train)\n",
    "pred = model.predict(x_test)\n",
    "\n",
    "# Confusion matrix\n",
    "sns.heatmap(\n",
    "    confusion_matrix(y_test, pred),\n",
    "    annot=True,\n",
    "    cmap=\"Blues\",\n",
    "    cbar=False,\n",
    "    fmt=\".0f\",\n",
    ")\n",
    "plt.xlabel(\"Predicted label\")\n",
    "plt.ylabel(\"True label\")\n",
    "\n",
    "# Metrics\n",
    "print(precision_score(y_test, pred))\n",
    "print(recall_score(y_test, pred))\n",
    "print(accuracy_score(y_test, pred))"
   ]
  }
 ],
 "metadata": {
  "kernelspec": {
   "display_name": "Python 3",
   "language": "python",
   "name": "python3"
  },
  "language_info": {
   "codemirror_mode": {
    "name": "ipython",
    "version": 3
   },
   "file_extension": ".py",
   "mimetype": "text/x-python",
   "name": "python",
   "nbconvert_exporter": "python",
   "pygments_lexer": "ipython3",
   "version": "3.11.4"
  }
 },
 "nbformat": 4,
 "nbformat_minor": 2
}
