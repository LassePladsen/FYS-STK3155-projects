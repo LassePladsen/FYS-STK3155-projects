{
 "cells": [
  {
   "cell_type": "code",
   "execution_count": 52,
   "id": "initial_id",
   "metadata": {
    "collapsed": true,
    "ExecuteTime": {
     "end_time": "2023-10-01T11:16:49.994447500Z",
     "start_time": "2023-10-01T11:16:49.983949500Z"
    }
   },
   "outputs": [],
   "source": [
    "import numpy as np\n",
    "import matplotlib.pyplot as plt\n",
    "from pathlib import Path\n",
    "from sklearn.model_selection import train_test_split\n",
    "from sklearn.preprocessing import StandardScaler\n",
    "from sklearn.utils import resample\n",
    "\n",
    "\n",
    "def FrankeFunction(x, y):\n",
    "    term1 = 0.75 * np.exp(-(0.25 * (9 * x - 2)**2) - 0.25 * ((9 * y - 2)**2))\n",
    "    term2 = 0.75 * np.exp(-((9 * x + 1)**2) / 49.0 - 0.1 * (9 * y + 1))\n",
    "    term3 = 0.5 * np.exp(-(9 * x - 7)**2 / 4.0 - 0.25 * ((9 * y - 3)**2))\n",
    "    term4 = -0.2 * np.exp(-(9 * x - 4)**2 - (9 * y - 7)**2)\n",
    "    return term1 + term2 + term3 + term4\n",
    "\n",
    "\n",
    "def create_X(x, y, n):\n",
    "    \"\"\"Returns the design matrix X from coordinates x and y with n polynomial degrees.\"\"\"\n",
    "    if len(x.shape) > 1:\n",
    "        x = np.ravel(x)\n",
    "        y = np.ravel(y)\n",
    "\n",
    "    N = len(x)\n",
    "    l = int((n + 1) * (n + 2) / 2)  # Number of elements in beta\n",
    "    X = np.ones((N, l))\n",
    "\n",
    "    for i in range(1, n + 1):\n",
    "        q = int(i * (i + 1) / 2)\n",
    "        for k in range(i + 1):\n",
    "            X[:, q + k] = (x**(i - k)) * (y**k)\n",
    "\n",
    "    return X\n",
    "\n",
    "\n",
    "def MSE_bootstrap(y_actual, y_model):\n",
    "    \"\"\"Returns the mean squared error of the two arrays.\"\"\"\n",
    "    return np.mean(np.mean((y_actual - y_model)**2, axis=1, keepdims=True))\n",
    "\n",
    "\n",
    "def bias_bootstrap(y_actual, y_model):\n",
    "    \"\"\"Returns the bias of the two arrays.\"\"\"\n",
    "    return np.mean((y_actual - np.mean(y_model, axis=1, keepdims=True))**2)\n",
    "\n",
    "\n",
    "def variance_bootstrap(y):\n",
    "    \"\"\"Returns the variance of the array\"\"\"\n",
    "    return np.mean(np.var(y, axis=1, keepdims=True))\n",
    "\n",
    "# GLOBAL PARAMETERS\n",
    "N = 1000  # number of data points\n",
    "n_bootstraps = 100  # no. bootstrap resamples\n",
    "noise_std = 1  # standard deviation for noise\n",
    "\n",
    "# Figure output directory\n",
    "RESULTS_DIR = Path(\"../results\").resolve()\n",
    "FIGURES_DIR = RESULTS_DIR / \"figures\"\n",
    "\n",
    "# Create them if they dont exist\n",
    "if not RESULTS_DIR.exists():\n",
    "    RESULTS_DIR.mkdir()\n",
    "\n",
    "if not FIGURES_DIR.exists():\n",
    "    FIGURES_DIR.mkdir()\n",
    "\n",
    "# Create data set\n",
    "np.random.seed(2023)\n",
    "x = np.sort(np.random.uniform(0, 1, N))\n",
    "y = np.sort(np.random.uniform(0, 1, N))\n",
    "\n",
    "# Get franke function with noise\n",
    "noise = np.random.normal(0, noise_std, x.shape)\n",
    "z = FrankeFunction(x, y) + noise\n",
    "\n",
    "# Initialize scaler\n",
    "scaler = StandardScaler()"
   ]
  },
  {
   "cell_type": "code",
   "execution_count": 53,
   "outputs": [
    {
     "name": "stdout",
     "output_type": "stream",
     "text": [
      "(200,) (200, 100) 20000\n"
     ]
    },
    {
     "ename": "ValueError",
     "evalue": "operands could not be broadcast together with shapes (200,) (200,100) ",
     "output_type": "error",
     "traceback": [
      "\u001B[1;31m---------------------------------------------------------------------------\u001B[0m",
      "\u001B[1;31mValueError\u001B[0m                                Traceback (most recent call last)",
      "Cell \u001B[1;32mIn[53], line 35\u001B[0m\n\u001B[0;32m     33\u001B[0m \u001B[38;5;66;03m# Store the MSE, bias, and variance\u001B[39;00m\n\u001B[0;32m     34\u001B[0m \u001B[38;5;28mprint\u001B[39m(z_test\u001B[38;5;241m.\u001B[39mshape, z_predict\u001B[38;5;241m.\u001B[39mshape, z_predict\u001B[38;5;241m.\u001B[39msize)\n\u001B[1;32m---> 35\u001B[0m mse_arr[degree] \u001B[38;5;241m=\u001B[39m \u001B[43mMSE_bootstrap\u001B[49m\u001B[43m(\u001B[49m\u001B[43mz_test\u001B[49m\u001B[43m,\u001B[49m\u001B[43m \u001B[49m\u001B[43mz_predict\u001B[49m\u001B[43m)\u001B[49m\n\u001B[0;32m     36\u001B[0m bias_arr[degree] \u001B[38;5;241m=\u001B[39m bias_bootstrap(z_test, z_predict)\n\u001B[0;32m     37\u001B[0m var_arr[degree] \u001B[38;5;241m=\u001B[39m variance_bootstrap(z_predict)\n",
      "Cell \u001B[1;32mIn[52], line 37\u001B[0m, in \u001B[0;36mMSE_bootstrap\u001B[1;34m(y_actual, y_model)\u001B[0m\n\u001B[0;32m     35\u001B[0m \u001B[38;5;28;01mdef\u001B[39;00m \u001B[38;5;21mMSE_bootstrap\u001B[39m(y_actual, y_model):\n\u001B[0;32m     36\u001B[0m \u001B[38;5;250m    \u001B[39m\u001B[38;5;124;03m\"\"\"Returns the mean squared error of the two arrays.\"\"\"\u001B[39;00m\n\u001B[1;32m---> 37\u001B[0m     \u001B[38;5;28;01mreturn\u001B[39;00m np\u001B[38;5;241m.\u001B[39mmean(np\u001B[38;5;241m.\u001B[39mmean((\u001B[43my_actual\u001B[49m\u001B[43m \u001B[49m\u001B[38;5;241;43m-\u001B[39;49m\u001B[43m \u001B[49m\u001B[43my_model\u001B[49m)\u001B[38;5;241m*\u001B[39m\u001B[38;5;241m*\u001B[39m\u001B[38;5;241m2\u001B[39m, axis\u001B[38;5;241m=\u001B[39m\u001B[38;5;241m1\u001B[39m, keepdims\u001B[38;5;241m=\u001B[39m\u001B[38;5;28;01mTrue\u001B[39;00m))\n",
      "\u001B[1;31mValueError\u001B[0m: operands could not be broadcast together with shapes (200,) (200,100) "
     ]
    }
   ],
   "source": [
    "######### BIAS-VARIANCE AS FUNCTION OF POLY. DEGREE #############\n",
    "# PARAMETERS\n",
    "maxdegree = 6  # max polynomial degree for plotting\n",
    "\n",
    "# Init arrays\n",
    "degrees = np.arange(0, maxdegree, 1)\n",
    "mse_arr = np.empty(degrees.shape)\n",
    "bias_arr = np.empty_like(mse_arr)\n",
    "var_arr = np.empty_like(mse_arr)\n",
    "\n",
    "# Iterate through all the different polynomial degrees\n",
    "for degree in degrees[1:]:\n",
    "    # Create design matrix X\n",
    "    X = create_X(x, y, n=degree)  # intercept included\n",
    "\n",
    "    # Split in training and test data up to the given degree\n",
    "    X_train, X_test, z_train, z_test = train_test_split(X, z, test_size=0.2)\n",
    "    \n",
    "    # Scale data\n",
    "    scaler.fit(X_train)\n",
    "    X_train_scaled = scaler.transform(X_train)\n",
    "    X_test_scaled = scaler.transform(X_test)\n",
    "\n",
    "    # Bootstrap resampling\n",
    "    z_predict = np.empty((z_test.shape[0], n_bootstraps))\n",
    "    for i in range(n_bootstraps):\n",
    "        X_, z_ = resample(X_train_scaled, z_train)\n",
    "        \n",
    "        # OLS regression\n",
    "        beta = np.linalg.pinv(X_.T @ X_) @ X_.T @ z_\n",
    "        z_predict[:, i] = X_test_scaled @ beta\n",
    "        \n",
    "    # Store the MSE, bias, and variance\n",
    "    print(z_test.shape, z_predict.shape, z_predict.size)\n",
    "    mse_arr[degree] = MSE_bootstrap(z_test, z_predict)\n",
    "    bias_arr[degree] = bias_bootstrap(z_test, z_predict)\n",
    "    var_arr[degree] = variance_bootstrap(z_predict)"
   ],
   "metadata": {
    "collapsed": false,
    "ExecuteTime": {
     "end_time": "2023-10-01T11:16:50.043317500Z",
     "start_time": "2023-10-01T11:16:49.997440400Z"
    }
   },
   "id": "45bf62e225386e48"
  }
 ],
 "metadata": {
  "kernelspec": {
   "display_name": "Python 3",
   "language": "python",
   "name": "python3"
  },
  "language_info": {
   "codemirror_mode": {
    "name": "ipython",
    "version": 2
   },
   "file_extension": ".py",
   "mimetype": "text/x-python",
   "name": "python",
   "nbconvert_exporter": "python",
   "pygments_lexer": "ipython2",
   "version": "2.7.6"
  }
 },
 "nbformat": 4,
 "nbformat_minor": 5
}
